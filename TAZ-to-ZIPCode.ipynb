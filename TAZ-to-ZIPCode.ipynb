{
 "cells": [
  {
   "cell_type": "code",
   "execution_count": 2,
   "metadata": {},
   "outputs": [],
   "source": [
    "import numpy as np\n",
    "import os\n",
    "import pandas as pd\n",
    "import arcpy"
   ]
  },
  {
   "cell_type": "code",
   "execution_count": 3,
   "metadata": {},
   "outputs": [
    {
     "name": "stdout",
     "output_type": "stream",
     "text": [
      "E:\\GitHub\\TAZ-to-ZIPCode\n"
     ]
    }
   ],
   "source": [
    "working_directory = os.getcwd()\n",
    "print(working_directory)\n",
    "\n",
    "zipcode_shp = os.path.join(working_directory + r\"\\ZipCode\\zipcode.shp\")\n",
    "taz_shp = working_directory + r\"\\TAZ\\TAZ.shp\"\n",
    "                        \n",
    "taz_table = working_directory + r\"\\TAZ\\TAZ.dbf\"\n",
    "tazcentroids_shp = working_directory + r\"\\TAZ\\TAZCentroids.shp\"\n",
    "\n",
    "tazcentroids_zipcode_sj = working_directory + r\"\\Results\\Shapefile\\TAZCentroids_ZipCode.shp\"\n",
    "taz_zipcode_shp = working_directory + r\"\\Results\\Shapefile\\TAZ_ZipCode.shp\"\n",
    "\n",
    "taz_zipcode_csv = working_directory + r\"\\Results\\CSV\\TAZ_ZipCode.csv\""
   ]
  },
  {
   "cell_type": "code",
   "execution_count": 33,
   "metadata": {},
   "outputs": [],
   "source": [
    "sde_filename = \"agrc_opensgid\"\n",
    "\n",
    "#make only once\n",
    "arcpy.CreateDatabaseConnection_management (working_directory, sde_filename, \"POSTGRESQL\", \"opensgid.agrc.utah.gov\", \"DATABASE_AUTH\", \"agrc\", \"agrc\", \"SAVE_USERNAME\", \"opensgid\")"
   ]
  },
  {
   "cell_type": "code",
   "execution_count": 34,
   "metadata": {},
   "outputs": [
    {
     "name": "stdout",
     "output_type": "stream",
     "text": [
      "Polygon\n"
     ]
    },
    {
     "data": {
      "text/html": [
       "<h2>Output</h2>a Layer object<h2>Messages</h2>Start Time: Thursday, August 13, 2020 10:15:37 AM<br/>Succeeded at Thursday, August 13, 2020 10:15:59 AM (Elapsed Time: 22.36 seconds)<br/><style>.rendered_html td, .rendered_html th {text-align: left;}.rendered_html tbody {border: 1px solid black;}</style>"
      ],
      "text/plain": [
       "<Result 'opensgid.boundaries.zip_code_areas'>"
      ]
     },
     "execution_count": 34,
     "metadata": {},
     "output_type": "execute_result"
    }
   ],
   "source": [
    "zipcodearea_layername = \"opensgid.boundaries.zip_code_areas\"\n",
    "\n",
    "zipcode = sde_filename + \".sde\\\\\" + zipcodearea_layername\n",
    "\n",
    "print(arcpy.Describe(zipcode).shapeType)\n",
    "\n"
   ]
  },
  {
   "cell_type": "markdown",
   "metadata": {},
   "source": [
    "Copy locally to make further processing faster"
   ]
  },
  {
   "cell_type": "code",
   "execution_count": 42,
   "metadata": {},
   "outputs": [
    {
     "data": {
      "text/html": [
       "<h2>Output</h2>E:\\GitHub\\TAZ-to-ZIPCode\\ZipCode\\ZipCode.shp<h2>Messages</h2>Start Time: Thursday, August 13, 2020 10:26:12 AM<br/>Succeeded at Thursday, August 13, 2020 10:26:32 AM (Elapsed Time: 19.59 seconds)<br/><style>.rendered_html td, .rendered_html th {text-align: left;}.rendered_html tbody {border: 1px solid black;}</style>"
      ],
      "text/plain": [
       "<Result 'E:\\\\GitHub\\\\TAZ-to-ZIPCode\\\\ZipCode\\\\ZipCode.shp'>"
      ]
     },
     "execution_count": 42,
     "metadata": {},
     "output_type": "execute_result"
    }
   ],
   "source": [
    "arcpy.CopyFeatures_management(zipcode, zipcode_fc)"
   ]
  },
  {
   "cell_type": "code",
   "execution_count": 5,
   "metadata": {},
   "outputs": [
    {
     "data": {
      "text/html": [
       "<h2>Output</h2>a Layer object<h2>Messages</h2>Start Time: Friday, August 14, 2020 9:18:32 AM<br/>Succeeded at Friday, August 14, 2020 9:18:32 AM (Elapsed Time: 0.02 seconds)<br/><style>.rendered_html td, .rendered_html th {text-align: left;}.rendered_html tbody {border: 1px solid black;}</style>"
      ],
      "text/plain": [
       "<Result 'ZC'>"
      ]
     },
     "execution_count": 5,
     "metadata": {},
     "output_type": "execute_result"
    }
   ],
   "source": [
    "arcpy.MakeFeatureLayer_management(zipcode_fc + \".shp\",\"ZC\")"
   ]
  },
  {
   "cell_type": "code",
   "execution_count": 6,
   "metadata": {},
   "outputs": [
    {
     "data": {
      "text/html": [
       "<h2>Output</h2>a Layer object<h2>Messages</h2>Start Time: Friday, August 14, 2020 9:18:44 AM<br/>Succeeded at Friday, August 14, 2020 9:18:44 AM (Elapsed Time: 0.01 seconds)<br/><style>.rendered_html td, .rendered_html th {text-align: left;}.rendered_html tbody {border: 1px solid black;}</style>"
      ],
      "text/plain": [
       "<Result 'TAZ'>"
      ]
     },
     "execution_count": 6,
     "metadata": {},
     "output_type": "execute_result"
    }
   ],
   "source": [
    "arcpy.MakeFeatureLayer_management(working_directory + \"\\\\TAZ\\\\TAZ.shp\", \"TAZ\")"
   ]
  },
  {
   "cell_type": "code",
   "execution_count": 70,
   "metadata": {},
   "outputs": [
    {
     "name": "stdout",
     "output_type": "stream",
     "text": [
      "E:\\GitHub\\TAZ-to-ZIPCode\\TAZ\\TAZ.shp\n"
     ]
    },
    {
     "data": {
      "text/html": [
       "<h2>Output</h2>E:\\GitHub\\TAZ-to-ZIPCode\\TAZ\\TAZCentroids.shp<h2>Messages</h2>Start Time: Friday, August 14, 2020 11:33:06 AM<br/>Succeeded at Friday, August 14, 2020 11:33:08 AM (Elapsed Time: 2.47 seconds)<br/><style>.rendered_html td, .rendered_html th {text-align: left;}.rendered_html tbody {border: 1px solid black;}</style>"
      ],
      "text/plain": [
       "<Result 'E:\\\\GitHub\\\\TAZ-to-ZIPCode\\\\TAZ\\\\TAZCentroids.shp'>"
      ]
     },
     "execution_count": 70,
     "metadata": {},
     "output_type": "execute_result"
    }
   ],
   "source": [
    "# Set the local variables\n",
    "\n",
    "x_coords = \"X\"\n",
    "y_coords = \"Y\"\n",
    "\n",
    "print (taz_fc)\n",
    "spatialRef = arcpy.Describe(taz_fc).spatialReference\n",
    "\n",
    "# Make the XY event layer...\n",
    "arcpy.management.XYTableToPoint(taz_table, tazcentroids_shp,\n",
    "                                x_coords, y_coords, None, spatialRef)\n"
   ]
  },
  {
   "cell_type": "code",
   "execution_count": 71,
   "metadata": {},
   "outputs": [
    {
     "data": {
      "text/html": [
       "<h2>Output</h2>E:\\GitHub\\TAZ-to-ZIPCode\\Results\\Shapefile\\TAZCentroids_ZipCode.shp<h2>Messages</h2>Start Time: Friday, August 14, 2020 11:33:37 AM<br/>Succeeded at Friday, August 14, 2020 11:33:39 AM (Elapsed Time: 2.78 seconds)<br/><style>.rendered_html td, .rendered_html th {text-align: left;}.rendered_html tbody {border: 1px solid black;}</style>"
      ],
      "text/plain": [
       "<Result 'E:\\\\GitHub\\\\TAZ-to-ZIPCode\\\\Results\\\\Shapefile\\\\TAZCentroids_ZipCode.shp'>"
      ]
     },
     "execution_count": 71,
     "metadata": {},
     "output_type": "execute_result"
    }
   ],
   "source": [
    "arcpy.SpatialJoin_analysis(tazcentroids_shp, zipcode_shp, tazcentroids_zipcode_sj, \"JOIN_ONE_TO_ONE\", \"\", \"\", \"CLOSEST\", \"\", \"\")"
   ]
  },
  {
   "cell_type": "code",
   "execution_count": 74,
   "metadata": {},
   "outputs": [
    {
     "data": {
      "text/html": [
       "<h2>Output</h2>E:\\GitHub\\TAZ-to-ZIPCode\\Results\\CSV\\TAZ_ZipCode.csv<h2>Messages</h2>Start Time: Friday, August 14, 2020 11:33:59 AM<br/>Succeeded at Friday, August 14, 2020 11:33:59 AM (Elapsed Time: 0.27 seconds)<br/><style>.rendered_html td, .rendered_html th {text-align: left;}.rendered_html tbody {border: 1px solid black;}</style>"
      ],
      "text/plain": [
       "<Result 'E:\\\\GitHub\\\\TAZ-to-ZIPCode\\\\Results\\\\CSV\\\\TAZ_ZipCode.csv'>"
      ]
     },
     "execution_count": 74,
     "metadata": {},
     "output_type": "execute_result"
    }
   ],
   "source": [
    "# Create the required FieldMap and FieldMappings objects\n",
    "fm_taz = arcpy.FieldMap()\n",
    "fm_zip = arcpy.FieldMap()\n",
    "fms = arcpy.FieldMappings()\n",
    "\n",
    "# Get the field names of vegetation type and diameter for both original\n",
    "# files\n",
    "tazfieldname = \"TAZID\"\n",
    "zipfieldname = \"zip5\"\n",
    "\n",
    "# Add fields to their corresponding FieldMap objects\n",
    "fm_taz.addInputField(tazcentroids_shp, tazfieldname)\n",
    "fm_zip.addInputField(zipcode_shp, zipfieldname)\n",
    "\n",
    "# Set the output field properties for both FieldMap objects\n",
    "taz_name = fm_taz.outputField\n",
    "taz_name.name = 'TAZID'\n",
    "fm_taz.outputField = taz_name\n",
    "\n",
    "zip_name = fm_zip.outputField\n",
    "zip_name.name = 'ZIP5'\n",
    "fm_zip.outputField = zip_name\n",
    "\n",
    "# Add the FieldMap objects to the FieldMappings object\n",
    "fms.addFieldMap(fm_taz)\n",
    "fms.addFieldMap(fm_zip)\n",
    "\n",
    "\n",
    "arcpy.TableToTable_conversion(tazcentroids_zipcode_sj, os.path.dirname(taz_zipcode_csv), os.path.basename(taz_zipcode_csv), field_mapping=fms)"
   ]
  },
  {
   "cell_type": "code",
   "execution_count": 5,
   "metadata": {},
   "outputs": [
    {
     "data": {
      "text/html": [
       "<h2>Output</h2>E:\\GitHub\\TAZ-to-ZIPCode\\Results\\Shapefile\\TAZ_ZipCode.shp<h2>Messages</h2>Start Time: Friday, August 14, 2020 1:46:00 PM<br/>Succeeded at Friday, August 14, 2020 1:46:02 PM (Elapsed Time: 2.35 seconds)<br/><style>.rendered_html td, .rendered_html th {text-align: left;}.rendered_html tbody {border: 1px solid black;}</style>"
      ],
      "text/plain": [
       "<Result 'E:\\\\GitHub\\\\TAZ-to-ZIPCode\\\\Results\\\\Shapefile\\\\TAZ_ZipCode.shp'>"
      ]
     },
     "execution_count": 5,
     "metadata": {},
     "output_type": "execute_result"
    }
   ],
   "source": [
    "from arcpy import FeatureClassToFeatureClass_conversion\n",
    "from arcpy import AddJoin_management\n",
    "from arcpy import MakeTableView_management\n",
    "from arcpy import MakeFeatureLayer_management\n",
    "\n",
    "taz_layer = MakeFeatureLayer_management(taz_shp,\"taz\")\n",
    "zip_layer = MakeTableView_management(taz_zipcode_csv, \"zip\")\n",
    "\n",
    "taz_zip = AddJoin_management(taz_layer, 'TAZID', zip_layer, 'TAZID')\n",
    "FeatureClassToFeatureClass_conversion(taz_zip, os.path.dirname(taz_zipcode_shp), os.path.basename(taz_zipcode_shp))"
   ]
  },
  {
   "cell_type": "code",
   "execution_count": 12,
   "metadata": {},
   "outputs": [],
   "source": [
    "from arcgis.gis import GIS\n",
    "gis = GIS()"
   ]
  },
  {
   "cell_type": "code",
   "execution_count": 18,
   "metadata": {},
   "outputs": [
    {
     "data": {
      "text/plain": [
       "'E:\\\\GitHub\\\\TAZ-to-ZIPCode\\\\TAZ\\\\TAZ.shp'"
      ]
     },
     "execution_count": 18,
     "metadata": {},
     "output_type": "execute_result"
    }
   ],
   "source": [
    "working_directory + r\"\\TAZ\\TAZ.shp\""
   ]
  },
  {
   "cell_type": "code",
   "execution_count": 19,
   "metadata": {},
   "outputs": [
    {
     "ename": "RuntimeError",
     "evalue": "Cannot infer layer: will not be added to map",
     "output_type": "error",
     "traceback": [
      "\u001b[1;31m---------------------------------------------------------------------------\u001b[0m",
      "\u001b[1;31mRuntimeError\u001b[0m                              Traceback (most recent call last)",
      "\u001b[1;32m<ipython-input-19-fe02f06ac4eb>\u001b[0m in \u001b[0;36m<module>\u001b[1;34m\u001b[0m\n\u001b[0;32m      6\u001b[0m \u001b[0mmap1\u001b[0m\u001b[1;33m\u001b[0m\u001b[1;33m\u001b[0m\u001b[0m\n\u001b[0;32m      7\u001b[0m \u001b[1;33m\u001b[0m\u001b[0m\n\u001b[1;32m----> 8\u001b[1;33m \u001b[0mmap1\u001b[0m\u001b[1;33m.\u001b[0m\u001b[0madd_layer\u001b[0m\u001b[1;33m(\u001b[0m\u001b[0mworking_directory\u001b[0m \u001b[1;33m+\u001b[0m \u001b[1;34mr\"\\TAZ\\TAZ.shp\"\u001b[0m\u001b[1;33m)\u001b[0m\u001b[1;33m\u001b[0m\u001b[1;33m\u001b[0m\u001b[0m\n\u001b[0m",
      "\u001b[1;32mC:\\Program Files\\ArcGIS\\Pro\\bin\\Python\\envs\\arcgispro-py3\\lib\\site-packages\\arcgis\\widgets\\_mapview\\_mapview.py\u001b[0m in \u001b[0;36madd_layer\u001b[1;34m(self, item, options)\u001b[0m\n\u001b[0;32m   1051\u001b[0m              \u001b[0m_is_geoenabled\u001b[0m\u001b[1;33m(\u001b[0m\u001b[0mitem\u001b[0m\u001b[1;33m)\u001b[0m\u001b[1;33m:\u001b[0m\u001b[1;33m\u001b[0m\u001b[1;33m\u001b[0m\u001b[0m\n\u001b[0;32m   1052\u001b[0m             \u001b[0mitem\u001b[0m \u001b[1;33m=\u001b[0m \u001b[0mitem\u001b[0m\u001b[1;33m.\u001b[0m\u001b[0mspatial\u001b[0m\u001b[1;33m.\u001b[0m\u001b[0mto_feature_collection\u001b[0m\u001b[1;33m(\u001b[0m\u001b[1;33m)\u001b[0m\u001b[1;33m\u001b[0m\u001b[1;33m\u001b[0m\u001b[0m\n\u001b[1;32m-> 1053\u001b[1;33m         \u001b[0mself\u001b[0m\u001b[1;33m.\u001b[0m\u001b[0m_add_layer_to_widget\u001b[0m\u001b[1;33m(\u001b[0m\u001b[0mitem\u001b[0m\u001b[1;33m,\u001b[0m \u001b[0moptions\u001b[0m\u001b[1;33m)\u001b[0m\u001b[1;33m\u001b[0m\u001b[1;33m\u001b[0m\u001b[0m\n\u001b[0m\u001b[0;32m   1054\u001b[0m \u001b[1;33m\u001b[0m\u001b[0m\n\u001b[0;32m   1055\u001b[0m     \u001b[1;32mdef\u001b[0m \u001b[0m_add_layer_to_webmap\u001b[0m\u001b[1;33m(\u001b[0m\u001b[0mself\u001b[0m\u001b[1;33m,\u001b[0m \u001b[0mitem\u001b[0m\u001b[1;33m,\u001b[0m \u001b[0moptions\u001b[0m\u001b[1;33m)\u001b[0m\u001b[1;33m:\u001b[0m\u001b[1;33m\u001b[0m\u001b[1;33m\u001b[0m\u001b[0m\n",
      "\u001b[1;32mC:\\Program Files\\ArcGIS\\Pro\\bin\\Python\\envs\\arcgispro-py3\\lib\\site-packages\\arcgis\\widgets\\_mapview\\_mapview.py\u001b[0m in \u001b[0;36m_add_layer_to_widget\u001b[1;34m(self, item, options)\u001b[0m\n\u001b[0;32m   1153\u001b[0m                     \u001b[0mself\u001b[0m\u001b[1;33m.\u001b[0m\u001b[0m_add_layer_to_widget\u001b[0m\u001b[1;33m(\u001b[0m\u001b[0mitem_\u001b[0m\u001b[1;33m,\u001b[0m \u001b[0moptions\u001b[0m\u001b[1;33m)\u001b[0m\u001b[1;33m\u001b[0m\u001b[1;33m\u001b[0m\u001b[0m\n\u001b[0;32m   1154\u001b[0m         \u001b[1;32melse\u001b[0m\u001b[1;33m:\u001b[0m\u001b[1;33m\u001b[0m\u001b[1;33m\u001b[0m\u001b[0m\n\u001b[1;32m-> 1155\u001b[1;33m             \u001b[1;32mraise\u001b[0m \u001b[0mRuntimeError\u001b[0m\u001b[1;33m(\u001b[0m\u001b[1;34m\"Cannot infer layer: will not be added to map\"\u001b[0m\u001b[1;33m)\u001b[0m\u001b[1;33m\u001b[0m\u001b[1;33m\u001b[0m\u001b[0m\n\u001b[0m\u001b[0;32m   1156\u001b[0m \u001b[1;33m\u001b[0m\u001b[0m\n\u001b[0;32m   1157\u001b[0m     \u001b[1;32mdef\u001b[0m \u001b[0m_add_notype_layer\u001b[0m\u001b[1;33m(\u001b[0m\u001b[0mself\u001b[0m\u001b[1;33m,\u001b[0m \u001b[0mitem\u001b[0m\u001b[1;33m,\u001b[0m \u001b[0mlyr_json\u001b[0m\u001b[1;33m)\u001b[0m\u001b[1;33m:\u001b[0m\u001b[1;33m\u001b[0m\u001b[1;33m\u001b[0m\u001b[0m\n",
      "\u001b[1;31mRuntimeError\u001b[0m: Cannot infer layer: will not be added to map"
     ]
    }
   ],
   "source": [
    "#Create a new map object\n",
    "map1 = gis.map()\n",
    "#Focus the map to the part of the world containing the example item\n",
    "#map1.extent = example_item.extent\n",
    "#Display the map\n",
    "map1\n",
    "\n",
    "map1.add_layer(working_directory + r\"\\TAZ\\TAZ.shp\")"
   ]
  }
 ],
 "metadata": {
  "kernelspec": {
   "display_name": "Python 3",
   "language": "python",
   "name": "python3"
  },
  "language_info": {
   "codemirror_mode": {
    "name": "ipython",
    "version": 3
   },
   "file_extension": ".py",
   "mimetype": "text/x-python",
   "name": "python",
   "nbconvert_exporter": "python",
   "pygments_lexer": "ipython3",
   "version": "3.6.10"
  }
 },
 "nbformat": 4,
 "nbformat_minor": 4
}
