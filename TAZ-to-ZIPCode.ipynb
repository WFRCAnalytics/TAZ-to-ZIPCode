{
 "cells": [
  {
   "cell_type": "code",
   "execution_count": 30,
   "metadata": {},
   "outputs": [],
   "source": [
    "import numpy as np\n",
    "import os\n",
    "import pandas as pd\n",
    "import arcpy"
   ]
  },
  {
   "cell_type": "code",
   "execution_count": 31,
   "metadata": {},
   "outputs": [
    {
     "name": "stdout",
     "output_type": "stream",
     "text": [
      "E:\\GitHub\\TAZ-to-ZIPCode\n"
     ]
    }
   ],
   "source": [
    "working_directory = os.getcwd()\n",
    "print(working_directory)"
   ]
  },
  {
   "cell_type": "code",
   "execution_count": 33,
   "metadata": {},
   "outputs": [],
   "source": [
    "sde_filename = \"agrc_opensgid\"\n",
    "\n",
    "#make only once\n",
    "arcpy.CreateDatabaseConnection_management (working_directory, sde_filename, \"POSTGRESQL\", \"opensgid.agrc.utah.gov\", \"DATABASE_AUTH\", \"agrc\", \"agrc\", \"SAVE_USERNAME\", \"opensgid\")"
   ]
  },
  {
   "cell_type": "code",
   "execution_count": 34,
   "metadata": {},
   "outputs": [
    {
     "name": "stdout",
     "output_type": "stream",
     "text": [
      "Polygon\n"
     ]
    },
    {
     "data": {
      "text/html": [
       "<h2>Output</h2>a Layer object<h2>Messages</h2>Start Time: Thursday, August 13, 2020 10:15:37 AM<br/>Succeeded at Thursday, August 13, 2020 10:15:59 AM (Elapsed Time: 22.36 seconds)<br/><style>.rendered_html td, .rendered_html th {text-align: left;}.rendered_html tbody {border: 1px solid black;}</style>"
      ],
      "text/plain": [
       "<Result 'opensgid.boundaries.zip_code_areas'>"
      ]
     },
     "execution_count": 34,
     "metadata": {},
     "output_type": "execute_result"
    }
   ],
   "source": [
    "zipcodearea_layername = \"opensgid.boundaries.zip_code_areas\"\n",
    "\n",
    "zipcode = sde_filename + \".sde\\\\\" + zipcodearea_layername\n",
    "\n",
    "print(arcpy.Describe(zipcode).shapeType)\n",
    "\n"
   ]
  },
  {
   "cell_type": "markdown",
   "metadata": {},
   "source": [
    "Copy locally to make further processing faster"
   ]
  },
  {
   "cell_type": "code",
   "execution_count": 42,
   "metadata": {},
   "outputs": [
    {
     "data": {
      "text/html": [
       "<h2>Output</h2>E:\\GitHub\\TAZ-to-ZIPCode\\ZipCode\\ZipCode.shp<h2>Messages</h2>Start Time: Thursday, August 13, 2020 10:26:12 AM<br/>Succeeded at Thursday, August 13, 2020 10:26:32 AM (Elapsed Time: 19.59 seconds)<br/><style>.rendered_html td, .rendered_html th {text-align: left;}.rendered_html tbody {border: 1px solid black;}</style>"
      ],
      "text/plain": [
       "<Result 'E:\\\\GitHub\\\\TAZ-to-ZIPCode\\\\ZipCode\\\\ZipCode.shp'>"
      ]
     },
     "execution_count": 42,
     "metadata": {},
     "output_type": "execute_result"
    }
   ],
   "source": [
    "out_featureclass = os.path.join(working_directory + \"\\\\ZipCode\\\\\", \"ZipCode\")\n",
    "arcpy.CopyFeatures_management(zipcode, out_featureclass)"
   ]
  },
  {
   "cell_type": "code",
   "execution_count": 47,
   "metadata": {},
   "outputs": [
    {
     "data": {
      "text/html": [
       "<h2>Output</h2>a Layer object<h2>Messages</h2>Start Time: Thursday, August 13, 2020 11:41:49 AM<br/>Succeeded at Thursday, August 13, 2020 11:42:06 AM (Elapsed Time: 17.68 seconds)<br/><style>.rendered_html td, .rendered_html th {text-align: left;}.rendered_html tbody {border: 1px solid black;}</style>"
      ],
      "text/plain": [
       "<Result 'ZC'>"
      ]
     },
     "execution_count": 47,
     "metadata": {},
     "output_type": "execute_result"
    }
   ],
   "source": [
    "arcpy.MakeFeatureLayer_management(out_featureclass + \".shp\",\"ZC\")"
   ]
  },
  {
   "cell_type": "code",
   "execution_count": 45,
   "metadata": {},
   "outputs": [
    {
     "data": {
      "text/html": [
       "<h2>Output</h2>a Layer object<h2>Messages</h2>Start Time: Thursday, August 13, 2020 10:39:58 AM<br/>Succeeded at Thursday, August 13, 2020 10:40:18 AM (Elapsed Time: 19.67 seconds)<br/><style>.rendered_html td, .rendered_html th {text-align: left;}.rendered_html tbody {border: 1px solid black;}</style>"
      ],
      "text/plain": [
       "<Result 'TAZ'>"
      ]
     },
     "execution_count": 45,
     "metadata": {},
     "output_type": "execute_result"
    }
   ],
   "source": [
    "arcpy.MakeFeatureLayer_management(working_directory + \"\\\\TAZ\\\\TAZ.shp\", \"TAZ\")"
   ]
  }
 ],
 "metadata": {
  "kernelspec": {
   "display_name": "Python 3",
   "language": "python",
   "name": "python3"
  },
  "language_info": {
   "codemirror_mode": {
    "name": "ipython",
    "version": 3
   },
   "file_extension": ".py",
   "mimetype": "text/x-python",
   "name": "python",
   "nbconvert_exporter": "python",
   "pygments_lexer": "ipython3",
   "version": "3.6.10"
  }
 },
 "nbformat": 4,
 "nbformat_minor": 4
}
